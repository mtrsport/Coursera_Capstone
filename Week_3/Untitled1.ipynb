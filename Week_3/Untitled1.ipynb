{
 "cells": [
  {
   "cell_type": "code",
   "execution_count": 1,
   "metadata": {},
   "outputs": [
    {
     "name": "stdout",
     "output_type": "stream",
     "text": [
      "Your credentails:\n",
      "CLIENT_ID: ZLC3RSY2CARPRMFJ3NBVV3EGSJW2UPR5LZ0F5EZOLVVEYVX1\n",
      "CLIENT_SECRET:0NMN35MBMDCSQFPJBEISF2IC3YCJY2JEQJG0J0ETY3MFHDOJ\n"
     ]
    },
    {
     "ename": "NameError",
     "evalue": "name 'dtToronto_data' is not defined",
     "output_type": "error",
     "traceback": [
      "\u001b[1;31m---------------------------------------------------------------------------\u001b[0m",
      "\u001b[1;31mNameError\u001b[0m                                 Traceback (most recent call last)",
      "\u001b[1;32m<ipython-input-1-44b52c706e91>\u001b[0m in \u001b[0;36m<module>\u001b[1;34m\u001b[0m\n\u001b[0;32m      8\u001b[0m \u001b[1;33m\u001b[0m\u001b[0m\n\u001b[0;32m      9\u001b[0m \u001b[1;33m\u001b[0m\u001b[0m\n\u001b[1;32m---> 10\u001b[1;33m \u001b[0mdtToronto_data\u001b[0m\u001b[1;33m.\u001b[0m\u001b[0mloc\u001b[0m\u001b[1;33m[\u001b[0m\u001b[1;36m0\u001b[0m\u001b[1;33m,\u001b[0m \u001b[1;34m'Neighborhood'\u001b[0m\u001b[1;33m]\u001b[0m\u001b[1;33m\u001b[0m\u001b[1;33m\u001b[0m\u001b[0m\n\u001b[0m\u001b[0;32m     11\u001b[0m \u001b[0mneighborhood_latitude\u001b[0m \u001b[1;33m=\u001b[0m \u001b[0mdtToronto_data\u001b[0m\u001b[1;33m.\u001b[0m\u001b[0mloc\u001b[0m\u001b[1;33m[\u001b[0m\u001b[1;36m0\u001b[0m\u001b[1;33m,\u001b[0m \u001b[1;34m'Latitude'\u001b[0m\u001b[1;33m]\u001b[0m \u001b[1;31m# neighborhood latitude value\u001b[0m\u001b[1;33m\u001b[0m\u001b[1;33m\u001b[0m\u001b[0m\n\u001b[0;32m     12\u001b[0m \u001b[0mneighborhood_longitude\u001b[0m \u001b[1;33m=\u001b[0m \u001b[0mdtToronto_data\u001b[0m\u001b[1;33m.\u001b[0m\u001b[0mloc\u001b[0m\u001b[1;33m[\u001b[0m\u001b[1;36m0\u001b[0m\u001b[1;33m,\u001b[0m \u001b[1;34m'Longitude'\u001b[0m\u001b[1;33m]\u001b[0m \u001b[1;31m# neighborhood longitude value\u001b[0m\u001b[1;33m\u001b[0m\u001b[1;33m\u001b[0m\u001b[0m\n",
      "\u001b[1;31mNameError\u001b[0m: name 'dtToronto_data' is not defined"
     ]
    }
   ],
   "source": [
    "CLIENT_ID = 'ZLC3RSY2CARPRMFJ3NBVV3EGSJW2UPR5LZ0F5EZOLVVEYVX1' # your Foursquare ID\n",
    "CLIENT_SECRET = '0NMN35MBMDCSQFPJBEISF2IC3YCJY2JEQJG0J0ETY3MFHDOJ' # your Foursquare Secret\n",
    "VERSION = '20200515' # Foursquare API version\n",
    "\n",
    "print('Your credentails:')\n",
    "print('CLIENT_ID: ' + CLIENT_ID)\n",
    "print('CLIENT_SECRET:' + CLIENT_SECRET)\n",
    "\n",
    "\n",
    "dtToronto_data.loc[0, 'Neighborhood']\n",
    "neighborhood_latitude = dtToronto_data.loc[0, 'Latitude'] # neighborhood latitude value\n",
    "neighborhood_longitude = dtToronto_data.loc[0, 'Longitude'] # neighborhood longitude value\n",
    "\n",
    "neighborhood_name = dtToronto_data.loc[0, 'Neighborhood'] # neighborhood name\n",
    "\n",
    "print('Latitude and longitude values of {} are {}, {}.'.format(neighborhood_name, \n",
    "                                                               neighborhood_latitude, \n",
    "                                                               neighborhood_longitude))\n",
    "\n",
    "\n"
   ]
  },
  {
   "cell_type": "code",
   "execution_count": null,
   "metadata": {},
   "outputs": [],
   "source": [
    "import requests # library to handle requests\n",
    "from pandas.io.json import json_normalize\n",
    "url = 'https://api.foursquare.com/v2/venues/explore?client_id={}&client_secret={}&v={}&ll={},{}&radius=500&limit=50'.format(CLIENT_ID,\n",
    "                                                                                                                        CLIENT_SECRET,\n",
    "                                                                                                                           VERSION,\n",
    "                                                                                                                       neighborhood_latitude,\n",
    "                                                                                                                       neighborhood_longitude)\n",
    "results = requests.get(url).json()\n",
    "results"
   ]
  }
 ],
 "metadata": {
  "kernelspec": {
   "display_name": "Python 3",
   "language": "python",
   "name": "python3"
  },
  "language_info": {
   "codemirror_mode": {
    "name": "ipython",
    "version": 3
   },
   "file_extension": ".py",
   "mimetype": "text/x-python",
   "name": "python",
   "nbconvert_exporter": "python",
   "pygments_lexer": "ipython3",
   "version": "3.7.3"
  }
 },
 "nbformat": 4,
 "nbformat_minor": 2
}
